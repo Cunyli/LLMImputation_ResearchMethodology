{
 "cells": [
  {
   "cell_type": "markdown",
   "id": "af8d4315",
   "metadata": {},
   "source": [
    "# DistilBERT Regression (Multi-GPU)\n",
    "\n",
    "This notebook fine-tunes `distilbert-base-uncased` to predict the human toxicity score (`toxicity_human`) using **multiple GPUs** (e.g. Kaggle dual T4).\n",
    "\n",
    "> 将 `NUM_PROCESSES` 设置为 2 可在 Kaggle 上启用双 GPU；若仅有单卡，请改回 1。"
   ]
  },
  {
   "cell_type": "markdown",
   "id": "b00fc017",
   "metadata": {},
   "source": [
    "## 0. Environment Setup\n",
    "- 在运行环境中启用 GPU（Kaggle: *Settings → Accelerator → GPU (T4 x2)*）。\n",
    "- 安装所需依赖库。"
   ]
  },
  {
   "cell_type": "code",
   "execution_count": null,
   "id": "57114202",
   "metadata": {},
   "outputs": [],
   "source": [
    "!pip install -q transformers datasets accelerate evaluate scikit-learn"
   ]
  },
  {
   "cell_type": "code",
   "execution_count": null,
   "id": "ec2a0db1",
   "metadata": {},
   "outputs": [],
   "source": [
    "import math\n",
    "from pathlib import Path\n",
    "\n",
    "import numpy as np\n",
    "import pandas as pd\n",
    "import torch\n",
    "from datasets import Dataset, DatasetDict\n",
    "from scipy import stats\n",
    "from sklearn.metrics import f1_score, mean_absolute_error, mean_squared_error\n",
    "from sklearn.model_selection import train_test_split\n",
    "from transformers import (\n",
    "    AutoModelForSequenceClassification,\n",
    "    AutoTokenizer,\n",
    "    DataCollatorWithPadding,\n",
    "    Trainer,\n",
    "    TrainingArguments,\n",
    ")\n",
    "\n",
    "print(f\"Available GPUs: {torch.cuda.device_count()}\")"
   ]
  },
  {
   "cell_type": "markdown",
   "id": "8d6df041",
   "metadata": {},
   "source": [
    "## 1. Configuration\n",
    "更新下面的路径与超参数以匹配当前环境。"
   ]
  },
  {
   "cell_type": "code",
   "execution_count": null,
   "id": "362abc2c",
   "metadata": {},
   "outputs": [],
   "source": [
    "# 数据路径设置\n",
    "DATA_ROOT = Path('/kaggle/input/llmimputation/data/parquet')  # TODO: 按需修改\n",
    "IMPUTED_FILE = 'train_text_imputed_mar_knn_30.parquet'          # TODO: 选择要训练的数据集\n",
    "TEST_FILE = 'test.parquet'                                     # 若无独立测试集可改为 None\n",
    "\n",
    "TEXT_COLUMN = 'text'\n",
    "LABEL_COLUMN = 'toxicity_human'\n",
    "LABEL_THRESHOLDS = [1.5, 2.5, 3.5, 4.5]\n",
    "RANDOM_STATE = 42\n",
    "VALID_SIZE = 0.1\n",
    "\n",
    "# 训练相关参数\n",
    "BATCH_SIZE = 16\n",
    "GRADIENT_ACCUMULATION_STEPS = 1\n",
    "NUM_TRAIN_EPOCHS = 3\n",
    "LEARNING_RATE = 3e-5\n",
    "WARMUP_RATIO = 0.1\n",
    "WEIGHT_DECAY = 0.01\n",
    "MAX_LENGTH = 256\n",
    "\n",
    "# 多 GPU 配置：Kaggle 双 T4 设置为 2；单卡保持 1\n",
    "NUM_PROCESSES = 2\n",
    "USE_FP16 = torch.cuda.is_available()"
   ]
  },
  {
   "cell_type": "markdown",
   "id": "79e92aa7",
   "metadata": {},
   "source": [
    "## 2. Load Data"
   ]
  },
  {
   "cell_type": "code",
   "execution_count": null,
   "id": "9c19b52c",
   "metadata": {},
   "outputs": [],
   "source": [
    "train_path = DATA_ROOT / IMPUTED_FILE\n",
    "assert train_path.exists(), f\"Missing train file: {train_path}\"\n",
    "\n",
    "df_train = pd.read_parquet(train_path)\n",
    "print(f\"Train rows: {len(df_train):,}\")\n",
    "\n",
    "df_test = None\n",
    "if TEST_FILE:\n",
    "    test_path = DATA_ROOT / TEST_FILE\n",
    "    if test_path.exists():\n",
    "        df_test = pd.read_parquet(test_path)\n",
    "        print(f\"Test rows: {len(df_test):,}\")\n",
    "    else:\n",
    "        print(f\"Warning: TEST_FILE '{TEST_FILE}' not found; skipping test split.\")"
   ]
  },
  {
   "cell_type": "code",
   "execution_count": null,
   "id": "364881e3",
   "metadata": {},
   "outputs": [],
   "source": [
    "X = df_train[TEXT_COLUMN].astype(str)\n",
    "y = df_train[LABEL_COLUMN].astype(np.float32)\n",
    "\n",
    "X_train, X_valid, y_train, y_valid = train_test_split(\n",
    "    X,\n",
    "    y,\n",
    "    test_size=VALID_SIZE,\n",
    "    random_state=RANDOM_STATE,\n",
    "    stratify=np.digitize(y, LABEL_THRESHOLDS),\n",
    ")\n",
    "\n",
    "train_dataset = Dataset.from_dict({TEXT_COLUMN: X_train, LABEL_COLUMN: y_train})\n",
    "valid_dataset = Dataset.from_dict({TEXT_COLUMN: X_valid, LABEL_COLUMN: y_valid})\n",
    "\n",
    "datasets_dict = DatasetDict({'train': train_dataset, 'validation': valid_dataset})\n",
    "\n",
    "if df_test is not None:\n",
    "    test_dataset = Dataset.from_dict({\n",
    "        TEXT_COLUMN: df_test[TEXT_COLUMN].astype(str),\n",
    "        LABEL_COLUMN: df_test[LABEL_COLUMN].astype(np.float32),\n",
    "    })\n",
    "    datasets_dict['test'] = test_dataset\n",
    "\n",
    "datasets_dict"
   ]
  },
  {
   "cell_type": "markdown",
   "id": "5c2fd815",
   "metadata": {},
   "source": [
    "## 3. Tokenization"
   ]
  },
  {
   "cell_type": "code",
   "execution_count": null,
   "id": "d5aae9b6",
   "metadata": {},
   "outputs": [],
   "source": [
    "model_name = 'distilbert-base-uncased'\n",
    "\n",
    "tokenizer = AutoTokenizer.from_pretrained(model_name)\n",
    "\n",
    "def preprocess(example):\n",
    "    model_inputs = tokenizer(\n",
    "        example[TEXT_COLUMN],\n",
    "        padding=False,\n",
    "        truncation=True,\n",
    "        max_length=MAX_LENGTH,\n",
    "    )\n",
    "    model_inputs['labels'] = example[LABEL_COLUMN]\n",
    "    return model_inputs\n",
    "\n",
    "tokenized_datasets = datasets_dict.map(\n",
    "    preprocess,\n",
    "    batched=True,\n",
    "    remove_columns=[TEXT_COLUMN, LABEL_COLUMN],\n",
    ")\n",
    "\n",
    "data_collator = DataCollatorWithPadding(tokenizer=tokenizer)\n",
    "tokenized_datasets"
   ]
  },
  {
   "cell_type": "markdown",
   "id": "de26985d",
   "metadata": {},
   "source": [
    "## 4. Metrics\n",
    "计算 MSE/MAE/相关系数，并将回归结果离散化后计算宏 F1。"
   ]
  },
  {
   "cell_type": "code",
   "execution_count": null,
   "id": "70c4a6ff",
   "metadata": {},
   "outputs": [],
   "source": [
    "def compute_metrics(eval_pred):\n",
    "    predictions, labels = eval_pred\n",
    "    predictions = predictions.reshape(-1)\n",
    "    labels = labels.reshape(-1)\n",
    "\n",
    "    mae = mean_absolute_error(labels, predictions)\n",
    "    rmse = mean_squared_error(labels, predictions, squared=False)\n",
    "    pearson = stats.pearsonr(labels, predictions).statistic\n",
    "    spearman = stats.spearmanr(labels, predictions).statistic\n",
    "\n",
    "    true_bins = np.digitize(labels, LABEL_THRESHOLDS)\n",
    "    pred_bins = np.digitize(predictions, LABEL_THRESHOLDS)\n",
    "    macro_f1 = f1_score(true_bins, pred_bins, average='macro')\n",
    "\n",
    "    return {\n",
    "        'mae': mae,\n",
    "        'rmse': rmse,\n",
    "        'pearson': pearson,\n",
    "        'spearman': spearman,\n",
    "        'macro_f1_from_regression': macro_f1,\n",
    "    }"
   ]
  },
  {
   "cell_type": "markdown",
   "id": "d308eb34",
   "metadata": {},
   "source": [
    "## 5. Training & Evaluation"
   ]
  },
  {
   "cell_type": "code",
   "execution_count": null,
   "id": "84956c58",
   "metadata": {},
   "outputs": [],
   "source": [
    "def run_training():\n",
    "    model = AutoModelForSequenceClassification.from_pretrained(\n",
    "        model_name,\n",
    "        num_labels=1,\n",
    "    )\n",
    "\n",
    "    training_args = TrainingArguments(\n",
    "        output_dir='./distilbert_regression_outputs',\n",
    "        evaluation_strategy='epoch',\n",
    "        save_strategy='epoch',\n",
    "        load_best_model_at_end=True,\n",
    "        metric_for_best_model='eval_rmse',\n",
    "        greater_is_better=False,\n",
    "        per_device_train_batch_size=BATCH_SIZE,\n",
    "        per_device_eval_batch_size=BATCH_SIZE,\n",
    "        gradient_accumulation_steps=GRADIENT_ACCUMULATION_STEPS,\n",
    "        num_train_epochs=NUM_TRAIN_EPOCHS,\n",
    "        learning_rate=LEARNING_RATE,\n",
    "        warmup_ratio=WARMUP_RATIO,\n",
    "        weight_decay=WEIGHT_DECAY,\n",
    "        logging_steps=100,\n",
    "        fp16=USE_FP16,\n",
    "        report_to='none',\n",
    "        ddp_find_unused_parameters=False,\n",
    "    )\n",
    "\n",
    "    trainer = Trainer(\n",
    "        model=model,\n",
    "        args=training_args,\n",
    "        train_dataset=tokenized_datasets['train'],\n",
    "        eval_dataset=tokenized_datasets['validation'],\n",
    "        tokenizer=tokenizer,\n",
    "        data_collator=data_collator,\n",
    "        compute_metrics=compute_metrics,\n",
    "    )\n",
    "\n",
    "    trainer.train()\n",
    "    trainer.save_model('distilbert_regression_best')\n",
    "\n",
    "    eval_metrics = trainer.evaluate(tokenized_datasets['validation'])\n",
    "    print('Validation metrics:', eval_metrics)\n",
    "\n",
    "    if 'test' in tokenized_datasets:\n",
    "        test_metrics = trainer.evaluate(tokenized_datasets['test'], metric_key_prefix='test')\n",
    "        print('Test metrics:', test_metrics)\n",
    "\n",
    "    torch.save(eval_metrics, 'distilbert_regression_outputs/eval_metrics.pt')"
   ]
  },
  {
   "cell_type": "code",
   "execution_count": null,
   "id": "a90c3e3b",
   "metadata": {},
   "outputs": [],
   "source": [
    "if NUM_PROCESSES > 1:\n",
    "    from accelerate import notebook_launcher\n",
    "    notebook_launcher(run_training, num_processes=NUM_PROCESSES)\n",
    "else:\n",
    "    run_training()"
   ]
  },
  {
   "cell_type": "markdown",
   "id": "f00b79e4",
   "metadata": {},
   "source": [
    "## 6. Save Metrics & Predictions"
   ]
  },
  {
   "cell_type": "code",
   "execution_count": null,
   "id": "880b6848",
   "metadata": {},
   "outputs": [],
   "source": [
    "from pathlib import Path\n",
    "import torch\n",
    "import numpy as np\n",
    "from transformers import Trainer\n",
    "\n",
    "save_dir = Path('./distilbert_regression_outputs')\n",
    "save_dir.mkdir(parents=True, exist_ok=True)\n",
    "\n",
    "try:\n",
    "    eval_metrics = torch.load(save_dir / 'eval_metrics.pt')\n",
    "except FileNotFoundError:\n",
    "    eval_metrics = {}\n",
    "\n",
    "if eval_metrics:\n",
    "    import json\n",
    "    with open(save_dir / 'eval_metrics.json', 'w') as f:\n",
    "        json.dump(eval_metrics, f, indent=2)\n",
    "\n",
    "if 'validation' in tokenized_datasets:\n",
    "    model = AutoModelForSequenceClassification.from_pretrained('distilbert_regression_best', num_labels=1)\n",
    "    trainer = Trainer(\n",
    "        model=model,\n",
    "        tokenizer=tokenizer,\n",
    "        data_collator=data_collator,\n",
    "    )\n",
    "    predictions = trainer.predict(tokenized_datasets['validation'])\n",
    "    np.savetxt(\n",
    "        save_dir / 'validation_predictions.csv',\n",
    "        np.vstack([predictions.predictions.reshape(-1), predictions.label_ids]).T,\n",
    "        delimiter=',',\n",
    "        header='pred,label',\n",
    "        comments=''\n",
    "    )\n",
    "    print('Saved validation predictions.')"
   ]
  }
 ],
 "metadata": {
  "kernelspec": {
   "display_name": "Python 3",
   "language": "python",
   "name": "python3"
  },
  "language_info": {
   "name": "python",
   "version": "3.11"
  }
 },
 "nbformat": 4,
 "nbformat_minor": 5
}
